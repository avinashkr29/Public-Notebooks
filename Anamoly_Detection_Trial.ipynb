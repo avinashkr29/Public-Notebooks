{
  "nbformat": 4,
  "nbformat_minor": 0,
  "metadata": {
    "colab": {
      "name": "Anamoly Detection Trial.ipynb",
      "provenance": [],
      "authorship_tag": "ABX9TyM4+4ozCa5ksums7BWtDLmk",
      "include_colab_link": true
    },
    "kernelspec": {
      "name": "python3",
      "display_name": "Python 3"
    },
    "widgets": {
      "application/vnd.jupyter.widget-state+json": {
        "c5a10363ebf744ed83957ae75a5f56eb": {
          "model_module": "@jupyter-widgets/controls",
          "model_name": "IntProgressModel",
          "state": {
            "_view_name": "ProgressView",
            "style": "IPY_MODEL_00bb1b0ddb904c0aacd7b7458d41c173",
            "_dom_classes": [],
            "description": "Processing: ",
            "_model_name": "IntProgressModel",
            "bar_style": "",
            "max": 4,
            "_view_module": "@jupyter-widgets/controls",
            "_model_module_version": "1.5.0",
            "value": 3,
            "_view_count": null,
            "_view_module_version": "1.5.0",
            "orientation": "horizontal",
            "min": 0,
            "description_tooltip": null,
            "_model_module": "@jupyter-widgets/controls",
            "layout": "IPY_MODEL_f341c20eef584ce4959741b165857e37"
          }
        },
        "00bb1b0ddb904c0aacd7b7458d41c173": {
          "model_module": "@jupyter-widgets/controls",
          "model_name": "ProgressStyleModel",
          "state": {
            "_view_name": "StyleView",
            "_model_name": "ProgressStyleModel",
            "description_width": "",
            "_view_module": "@jupyter-widgets/base",
            "_model_module_version": "1.5.0",
            "_view_count": null,
            "_view_module_version": "1.2.0",
            "bar_color": null,
            "_model_module": "@jupyter-widgets/controls"
          }
        },
        "f341c20eef584ce4959741b165857e37": {
          "model_module": "@jupyter-widgets/base",
          "model_name": "LayoutModel",
          "state": {
            "_view_name": "LayoutView",
            "grid_template_rows": null,
            "right": null,
            "justify_content": null,
            "_view_module": "@jupyter-widgets/base",
            "overflow": null,
            "_model_module_version": "1.2.0",
            "_view_count": null,
            "flex_flow": null,
            "width": null,
            "min_width": null,
            "border": null,
            "align_items": null,
            "bottom": null,
            "_model_module": "@jupyter-widgets/base",
            "top": null,
            "grid_column": null,
            "overflow_y": null,
            "overflow_x": null,
            "grid_auto_flow": null,
            "grid_area": null,
            "grid_template_columns": null,
            "flex": null,
            "_model_name": "LayoutModel",
            "justify_items": null,
            "grid_row": null,
            "max_height": null,
            "align_content": null,
            "visibility": null,
            "align_self": null,
            "height": null,
            "min_height": null,
            "padding": null,
            "grid_auto_rows": null,
            "grid_gap": null,
            "max_width": null,
            "order": null,
            "_view_module_version": "1.2.0",
            "grid_template_areas": null,
            "object_position": null,
            "object_fit": null,
            "grid_auto_columns": null,
            "margin": null,
            "display": null,
            "left": null
          }
        },
        "c006147d1ed747cea815c488abb08cb0": {
          "model_module": "@jupyter-widgets/controls",
          "model_name": "TextModel",
          "state": {
            "_view_name": "TextView",
            "style": "IPY_MODEL_2081072ac1514488861ee7c98b5de2db",
            "_dom_classes": [],
            "description": "",
            "_model_name": "TextModel",
            "placeholder": "​",
            "_view_module": "@jupyter-widgets/controls",
            "_model_module_version": "1.5.0",
            "value": "Following data types have been inferred automatically, if they are correct press enter to continue or type 'quit' otherwise.",
            "_view_count": null,
            "disabled": false,
            "_view_module_version": "1.5.0",
            "continuous_update": true,
            "description_tooltip": null,
            "_model_module": "@jupyter-widgets/controls",
            "layout": "IPY_MODEL_ededcebcbcea441e9ca6f59653852822"
          }
        },
        "2081072ac1514488861ee7c98b5de2db": {
          "model_module": "@jupyter-widgets/controls",
          "model_name": "DescriptionStyleModel",
          "state": {
            "_view_name": "StyleView",
            "_model_name": "DescriptionStyleModel",
            "description_width": "",
            "_view_module": "@jupyter-widgets/base",
            "_model_module_version": "1.5.0",
            "_view_count": null,
            "_view_module_version": "1.2.0",
            "_model_module": "@jupyter-widgets/controls"
          }
        },
        "ededcebcbcea441e9ca6f59653852822": {
          "model_module": "@jupyter-widgets/base",
          "model_name": "LayoutModel",
          "state": {
            "_view_name": "LayoutView",
            "grid_template_rows": null,
            "right": null,
            "justify_content": null,
            "_view_module": "@jupyter-widgets/base",
            "overflow": null,
            "_model_module_version": "1.2.0",
            "_view_count": null,
            "flex_flow": null,
            "width": "100%",
            "min_width": null,
            "border": null,
            "align_items": null,
            "bottom": null,
            "_model_module": "@jupyter-widgets/base",
            "top": null,
            "grid_column": null,
            "overflow_y": null,
            "overflow_x": null,
            "grid_auto_flow": null,
            "grid_area": null,
            "grid_template_columns": null,
            "flex": null,
            "_model_name": "LayoutModel",
            "justify_items": null,
            "grid_row": null,
            "max_height": null,
            "align_content": null,
            "visibility": null,
            "align_self": null,
            "height": null,
            "min_height": null,
            "padding": null,
            "grid_auto_rows": null,
            "grid_gap": null,
            "max_width": null,
            "order": null,
            "_view_module_version": "1.2.0",
            "grid_template_areas": null,
            "object_position": null,
            "object_fit": null,
            "grid_auto_columns": null,
            "margin": null,
            "display": null,
            "left": null
          }
        }
      }
    }
  },
  "cells": [
    {
      "cell_type": "markdown",
      "metadata": {
        "id": "view-in-github",
        "colab_type": "text"
      },
      "source": [
        "<a href=\"https://colab.research.google.com/github/avinashkr29/Public-Notebooks/blob/master/Anamoly_Detection_Trial.ipynb\" target=\"_parent\"><img src=\"https://colab.research.google.com/assets/colab-badge.svg\" alt=\"Open In Colab\"/></a>"
      ]
    },
    {
      "cell_type": "code",
      "metadata": {
        "id": "phJy3-Y6KhUs",
        "colab_type": "code",
        "colab": {
          "base_uri": "https://localhost:8080/",
          "height": 17
        },
        "outputId": "36ff4a06-fbc2-4f8e-ac85-893337ac5df2"
      },
      "source": [
        "#import the dataset from pycaret repository\n",
        "#Function to increase width of cells\n",
        "from IPython.core.display import display, HTML\n",
        "display(HTML(\"<style>.container { width:100% !important; }</style>\"))\n",
        "\n",
        "import pandas as pd\n",
        "import matplotlib.pyplot as plt\n",
        "import os\n",
        "import pandas_profiling\n",
        "import numpy as np\n",
        "%matplotlib inline"
      ],
      "execution_count": 6,
      "outputs": [
        {
          "output_type": "display_data",
          "data": {
            "text/html": [
              "<style>.container { width:100% !important; }</style>"
            ],
            "text/plain": [
              "<IPython.core.display.HTML object>"
            ]
          },
          "metadata": {
            "tags": []
          }
        }
      ]
    },
    {
      "cell_type": "code",
      "metadata": {
        "id": "YUNls5KGKjey",
        "colab_type": "code",
        "colab": {}
      },
      "source": [
        "df=pd.read_csv(r'Train.csv')"
      ],
      "execution_count": 7,
      "outputs": []
    },
    {
      "cell_type": "code",
      "metadata": {
        "id": "vW6hHT4gKpU6",
        "colab_type": "code",
        "colab": {}
      },
      "source": [
        "df['DATE']=pd.to_datetime(df['DATE'])\n",
        "df['Month']=df['DATE'].dt.month\n",
        "df['Year']=df['DATE'].dt.year\n",
        "df['Day']=df['DATE'].dt.weekday"
      ],
      "execution_count": 8,
      "outputs": []
    },
    {
      "cell_type": "code",
      "metadata": {
        "id": "YLHWDvJMKsZ3",
        "colab_type": "code",
        "colab": {}
      },
      "source": [
        "df['X_12']=df['X_12'].fillna(df.X_12.median())"
      ],
      "execution_count": 9,
      "outputs": []
    },
    {
      "cell_type": "code",
      "metadata": {
        "id": "gSD3txu2K0qx",
        "colab_type": "code",
        "colab": {}
      },
      "source": [
        "for i in [ 'X_1', 'X_2', 'X_3', 'X_4', 'X_5', 'X_6', 'X_7','X_8', 'X_9', 'X_10', 'X_11', 'X_12', 'X_13', 'X_14', 'X_15',\n",
        "       'MULTIPLE_OFFENSE']:\n",
        "    df[i]=df[i].astype(int)"
      ],
      "execution_count": 10,
      "outputs": []
    },
    {
      "cell_type": "code",
      "metadata": {
        "id": "oWTKvzmxK858",
        "colab_type": "code",
        "colab": {
          "base_uri": "https://localhost:8080/",
          "height": 1000
        },
        "outputId": "e0aa0298-7d05-4f12-ced3-115fe77db0f4"
      },
      "source": [
        "!pip install pycaret"
      ],
      "execution_count": 12,
      "outputs": [
        {
          "output_type": "stream",
          "text": [
            "Collecting pycaret\n",
            "\u001b[?25l  Downloading https://files.pythonhosted.org/packages/c7/41/f7fa05b6ce3cb3096a35fb5ac6dc0f2bb23e8304f068618fb2501be0a562/pycaret-1.0.0-py3-none-any.whl (188kB)\n",
            "\r\u001b[K     |█▊                              | 10kB 16.6MB/s eta 0:00:01\r\u001b[K     |███▌                            | 20kB 1.8MB/s eta 0:00:01\r\u001b[K     |█████▏                          | 30kB 2.3MB/s eta 0:00:01\r\u001b[K     |███████                         | 40kB 2.5MB/s eta 0:00:01\r\u001b[K     |████████▊                       | 51kB 2.0MB/s eta 0:00:01\r\u001b[K     |██████████▍                     | 61kB 2.3MB/s eta 0:00:01\r\u001b[K     |████████████▏                   | 71kB 2.5MB/s eta 0:00:01\r\u001b[K     |██████████████                  | 81kB 2.7MB/s eta 0:00:01\r\u001b[K     |███████████████▋                | 92kB 2.9MB/s eta 0:00:01\r\u001b[K     |█████████████████▍              | 102kB 2.9MB/s eta 0:00:01\r\u001b[K     |███████████████████▏            | 112kB 2.9MB/s eta 0:00:01\r\u001b[K     |████████████████████▉           | 122kB 2.9MB/s eta 0:00:01\r\u001b[K     |██████████████████████▋         | 133kB 2.9MB/s eta 0:00:01\r\u001b[K     |████████████████████████▍       | 143kB 2.9MB/s eta 0:00:01\r\u001b[K     |██████████████████████████      | 153kB 2.9MB/s eta 0:00:01\r\u001b[K     |███████████████████████████▉    | 163kB 2.9MB/s eta 0:00:01\r\u001b[K     |█████████████████████████████▋  | 174kB 2.9MB/s eta 0:00:01\r\u001b[K     |███████████████████████████████▎| 184kB 2.9MB/s eta 0:00:01\r\u001b[K     |████████████████████████████████| 194kB 2.9MB/s \n",
            "\u001b[?25hRequirement already satisfied: pandas in /usr/local/lib/python3.6/dist-packages (from pycaret) (1.0.4)\n",
            "Requirement already satisfied: plotly==4.4.1 in /usr/local/lib/python3.6/dist-packages (from pycaret) (4.4.1)\n",
            "Requirement already satisfied: IPython in /usr/local/lib/python3.6/dist-packages (from pycaret) (5.5.0)\n",
            "Requirement already satisfied: textblob in /usr/local/lib/python3.6/dist-packages (from pycaret) (0.15.3)\n",
            "Collecting pyLDAvis\n",
            "\u001b[?25l  Downloading https://files.pythonhosted.org/packages/a5/3a/af82e070a8a96e13217c8f362f9a73e82d61ac8fff3a2561946a97f96266/pyLDAvis-2.1.2.tar.gz (1.6MB)\n",
            "\u001b[K     |████████████████████████████████| 1.6MB 8.1MB/s \n",
            "\u001b[?25hCollecting lightgbm==2.3.1\n",
            "\u001b[?25l  Downloading https://files.pythonhosted.org/packages/0b/9d/ddcb2f43aca194987f1a99e27edf41cf9bc39ea750c3371c2a62698c509a/lightgbm-2.3.1-py2.py3-none-manylinux1_x86_64.whl (1.2MB)\n",
            "\u001b[K     |████████████████████████████████| 1.2MB 14.3MB/s \n",
            "\u001b[?25hRequirement already satisfied: ipywidgets in /usr/local/lib/python3.6/dist-packages (from pycaret) (7.5.1)\n",
            "Requirement already satisfied: spacy in /usr/local/lib/python3.6/dist-packages (from pycaret) (2.2.4)\n",
            "Requirement already satisfied: wordcloud in /usr/local/lib/python3.6/dist-packages (from pycaret) (1.5.0)\n",
            "Requirement already satisfied: mlxtend in /usr/local/lib/python3.6/dist-packages (from pycaret) (0.14.0)\n",
            "Collecting datetime\n",
            "\u001b[?25l  Downloading https://files.pythonhosted.org/packages/73/22/a5297f3a1f92468cc737f8ce7ba6e5f245fcfafeae810ba37bd1039ea01c/DateTime-4.3-py2.py3-none-any.whl (60kB)\n",
            "\u001b[K     |████████████████████████████████| 61kB 7.2MB/s \n",
            "\u001b[?25hCollecting catboost==0.20.2\n",
            "\u001b[?25l  Downloading https://files.pythonhosted.org/packages/97/c4/586923de4634f88a31fd1b4966e15707a912b98b6f4566651b5ef58f36b5/catboost-0.20.2-cp36-none-manylinux1_x86_64.whl (63.9MB)\n",
            "\u001b[K     |████████████████████████████████| 63.9MB 74kB/s \n",
            "\u001b[?25hCollecting scikit-learn==0.22\n",
            "\u001b[?25l  Downloading https://files.pythonhosted.org/packages/2e/d0/860c4f6a7027e00acff373d9f5327f4ae3ed5872234b3cbdd7bcb52e5eff/scikit_learn-0.22-cp36-cp36m-manylinux1_x86_64.whl (7.0MB)\n",
            "\u001b[K     |████████████████████████████████| 7.0MB 45.8MB/s \n",
            "\u001b[?25hRequirement already satisfied: umap-learn in /usr/local/lib/python3.6/dist-packages (from pycaret) (0.4.4)\n",
            "Collecting pyod\n",
            "\u001b[?25l  Downloading https://files.pythonhosted.org/packages/cf/68/99df05e5666248e9c10359457e2da1b89943f5ac96749ceb1c131001eb88/pyod-0.8.0.tar.gz (93kB)\n",
            "\u001b[K     |████████████████████████████████| 102kB 11.8MB/s \n",
            "\u001b[?25hCollecting kmodes==0.10.1\n",
            "  Downloading https://files.pythonhosted.org/packages/79/c0/f7d8a0eb41ac6f302b4bc100f91b6e0f2558425ccfefaa0ec0430f77ee97/kmodes-0.10.1-py2.py3-none-any.whl\n",
            "Requirement already satisfied: xgboost==0.90 in /usr/local/lib/python3.6/dist-packages (from pycaret) (0.90)\n",
            "Collecting datefinder==0.7.0\n",
            "  Downloading https://files.pythonhosted.org/packages/16/2b/af8efaee30c0ba4238cb4d0645a07100d33d11d20a8783c443ed8b813eb9/datefinder-0.7.0-py2.py3-none-any.whl\n",
            "Requirement already satisfied: matplotlib in /usr/local/lib/python3.6/dist-packages (from pycaret) (3.2.1)\n",
            "Requirement already satisfied: joblib in /usr/local/lib/python3.6/dist-packages (from pycaret) (0.15.1)\n",
            "Collecting cufflinks==0.17.0\n",
            "\u001b[?25l  Downloading https://files.pythonhosted.org/packages/e3/79/1b8673b2723e02919307d558896dbcedcb46807c4e29acd25cfe43a36c8b/cufflinks-0.17.0.tar.gz (81kB)\n",
            "\u001b[K     |████████████████████████████████| 81kB 10.3MB/s \n",
            "\u001b[?25hCollecting yellowbrick==1.0.1\n",
            "\u001b[?25l  Downloading https://files.pythonhosted.org/packages/d1/cf/6d6ab47c0759d246262f9bdb53e89be3814bf1774bc51fffff995f5859f9/yellowbrick-1.0.1-py3-none-any.whl (378kB)\n",
            "\u001b[K     |████████████████████████████████| 389kB 40.2MB/s \n",
            "\u001b[?25hRequirement already satisfied: seaborn in /usr/local/lib/python3.6/dist-packages (from pycaret) (0.10.1)\n",
            "Requirement already satisfied: numpy in /usr/local/lib/python3.6/dist-packages (from pycaret) (1.18.5)\n",
            "Collecting shap==0.32.1\n",
            "\u001b[?25l  Downloading https://files.pythonhosted.org/packages/57/43/08f152a59a1d60f0328b476bdd58c791498989981ab9c6d595ec5448a86a/shap-0.32.1.tar.gz (259kB)\n",
            "\u001b[K     |████████████████████████████████| 266kB 38.8MB/s \n",
            "\u001b[?25hCollecting pandas-profiling==2.3.0\n",
            "\u001b[?25l  Downloading https://files.pythonhosted.org/packages/2c/2f/aae19e2173c10a9bb7fee5f5cad35dbe53a393960fc91abc477dcc4661e8/pandas-profiling-2.3.0.tar.gz (127kB)\n",
            "\u001b[K     |████████████████████████████████| 133kB 45.4MB/s \n",
            "\u001b[?25hRequirement already satisfied: nltk in /usr/local/lib/python3.6/dist-packages (from pycaret) (3.2.5)\n",
            "Requirement already satisfied: gensim in /usr/local/lib/python3.6/dist-packages (from pycaret) (3.6.0)\n",
            "Collecting awscli\n",
            "\u001b[?25l  Downloading https://files.pythonhosted.org/packages/ca/5d/f8a865b649ecd41bdebd8a9ae1428bca2dfd27f16baf5cb6243d5d8a4790/awscli-1.18.84-py2.py3-none-any.whl (3.2MB)\n",
            "\u001b[K     |████████████████████████████████| 3.2MB 42.3MB/s \n",
            "\u001b[?25hRequirement already satisfied: pytz>=2017.2 in /usr/local/lib/python3.6/dist-packages (from pandas->pycaret) (2018.9)\n",
            "Requirement already satisfied: python-dateutil>=2.6.1 in /usr/local/lib/python3.6/dist-packages (from pandas->pycaret) (2.8.1)\n",
            "Requirement already satisfied: retrying>=1.3.3 in /usr/local/lib/python3.6/dist-packages (from plotly==4.4.1->pycaret) (1.3.3)\n",
            "Requirement already satisfied: six in /usr/local/lib/python3.6/dist-packages (from plotly==4.4.1->pycaret) (1.12.0)\n",
            "Requirement already satisfied: traitlets>=4.2 in /usr/local/lib/python3.6/dist-packages (from IPython->pycaret) (4.3.3)\n",
            "Requirement already satisfied: pygments in /usr/local/lib/python3.6/dist-packages (from IPython->pycaret) (2.1.3)\n",
            "Requirement already satisfied: pickleshare in /usr/local/lib/python3.6/dist-packages (from IPython->pycaret) (0.7.5)\n",
            "Requirement already satisfied: decorator in /usr/local/lib/python3.6/dist-packages (from IPython->pycaret) (4.4.2)\n",
            "Requirement already satisfied: setuptools>=18.5 in /usr/local/lib/python3.6/dist-packages (from IPython->pycaret) (47.3.1)\n",
            "Requirement already satisfied: simplegeneric>0.8 in /usr/local/lib/python3.6/dist-packages (from IPython->pycaret) (0.8.1)\n",
            "Requirement already satisfied: prompt-toolkit<2.0.0,>=1.0.4 in /usr/local/lib/python3.6/dist-packages (from IPython->pycaret) (1.0.18)\n",
            "Requirement already satisfied: pexpect; sys_platform != \"win32\" in /usr/local/lib/python3.6/dist-packages (from IPython->pycaret) (4.8.0)\n",
            "Requirement already satisfied: wheel>=0.23.0 in /usr/local/lib/python3.6/dist-packages (from pyLDAvis->pycaret) (0.34.2)\n",
            "Requirement already satisfied: scipy>=0.18.0 in /usr/local/lib/python3.6/dist-packages (from pyLDAvis->pycaret) (1.4.1)\n",
            "Requirement already satisfied: jinja2>=2.7.2 in /usr/local/lib/python3.6/dist-packages (from pyLDAvis->pycaret) (2.11.2)\n",
            "Requirement already satisfied: numexpr in /usr/local/lib/python3.6/dist-packages (from pyLDAvis->pycaret) (2.7.1)\n",
            "Requirement already satisfied: pytest in /usr/local/lib/python3.6/dist-packages (from pyLDAvis->pycaret) (3.6.4)\n",
            "Requirement already satisfied: future in /usr/local/lib/python3.6/dist-packages (from pyLDAvis->pycaret) (0.16.0)\n",
            "Collecting funcy\n",
            "\u001b[?25l  Downloading https://files.pythonhosted.org/packages/ce/4b/6ffa76544e46614123de31574ad95758c421aae391a1764921b8a81e1eae/funcy-1.14.tar.gz (548kB)\n",
            "\u001b[K     |████████████████████████████████| 552kB 38.4MB/s \n",
            "\u001b[?25hRequirement already satisfied: nbformat>=4.2.0 in /usr/local/lib/python3.6/dist-packages (from ipywidgets->pycaret) (5.0.7)\n",
            "Requirement already satisfied: widgetsnbextension~=3.5.0 in /usr/local/lib/python3.6/dist-packages (from ipywidgets->pycaret) (3.5.1)\n",
            "Requirement already satisfied: ipykernel>=4.5.1 in /usr/local/lib/python3.6/dist-packages (from ipywidgets->pycaret) (4.10.1)\n",
            "Requirement already satisfied: preshed<3.1.0,>=3.0.2 in /usr/local/lib/python3.6/dist-packages (from spacy->pycaret) (3.0.2)\n",
            "Requirement already satisfied: tqdm<5.0.0,>=4.38.0 in /usr/local/lib/python3.6/dist-packages (from spacy->pycaret) (4.41.1)\n",
            "Requirement already satisfied: cymem<2.1.0,>=2.0.2 in /usr/local/lib/python3.6/dist-packages (from spacy->pycaret) (2.0.3)\n",
            "Requirement already satisfied: requests<3.0.0,>=2.13.0 in /usr/local/lib/python3.6/dist-packages (from spacy->pycaret) (2.23.0)\n",
            "Requirement already satisfied: thinc==7.4.0 in /usr/local/lib/python3.6/dist-packages (from spacy->pycaret) (7.4.0)\n",
            "Requirement already satisfied: blis<0.5.0,>=0.4.0 in /usr/local/lib/python3.6/dist-packages (from spacy->pycaret) (0.4.1)\n",
            "Requirement already satisfied: catalogue<1.1.0,>=0.0.7 in /usr/local/lib/python3.6/dist-packages (from spacy->pycaret) (1.0.0)\n",
            "Requirement already satisfied: plac<1.2.0,>=0.9.6 in /usr/local/lib/python3.6/dist-packages (from spacy->pycaret) (1.1.3)\n",
            "Requirement already satisfied: murmurhash<1.1.0,>=0.28.0 in /usr/local/lib/python3.6/dist-packages (from spacy->pycaret) (1.0.2)\n",
            "Requirement already satisfied: wasabi<1.1.0,>=0.4.0 in /usr/local/lib/python3.6/dist-packages (from spacy->pycaret) (0.6.0)\n",
            "Requirement already satisfied: srsly<1.1.0,>=1.0.2 in /usr/local/lib/python3.6/dist-packages (from spacy->pycaret) (1.0.2)\n",
            "Requirement already satisfied: pillow in /usr/local/lib/python3.6/dist-packages (from wordcloud->pycaret) (7.0.0)\n",
            "Collecting zope.interface\n",
            "\u001b[?25l  Downloading https://files.pythonhosted.org/packages/57/33/565274c28a11af60b7cfc0519d46bde4125fcd7d32ebc0a81b480d0e8da6/zope.interface-5.1.0-cp36-cp36m-manylinux2010_x86_64.whl (234kB)\n",
            "\u001b[K     |████████████████████████████████| 235kB 45.9MB/s \n",
            "\u001b[?25hRequirement already satisfied: graphviz in /usr/local/lib/python3.6/dist-packages (from catboost==0.20.2->pycaret) (0.10.1)\n",
            "Requirement already satisfied: numba!=0.47,>=0.46 in /usr/local/lib/python3.6/dist-packages (from umap-learn->pycaret) (0.48.0)\n",
            "Requirement already satisfied: tbb in /usr/local/lib/python3.6/dist-packages (from umap-learn->pycaret) (2020.0.133)\n",
            "Collecting combo\n",
            "  Downloading https://files.pythonhosted.org/packages/78/52/e880bd923eba122515307d29ab43c1c356bad60610c27bed2cdec25d0240/combo-0.1.0.tar.gz\n",
            "Collecting suod\n",
            "\u001b[?25l  Downloading https://files.pythonhosted.org/packages/a1/87/9170cabe1b5e10a7d095c0e28f2e30e7c1886a13f063de85d3cfacc06f4b/suod-0.0.4.tar.gz (2.1MB)\n",
            "\u001b[K     |████████████████████████████████| 2.1MB 39.2MB/s \n",
            "\u001b[?25hRequirement already satisfied: regex>=2017.02.08 in /usr/local/lib/python3.6/dist-packages (from datefinder==0.7.0->pycaret) (2019.12.20)\n",
            "Requirement already satisfied: cycler>=0.10 in /usr/local/lib/python3.6/dist-packages (from matplotlib->pycaret) (0.10.0)\n",
            "Requirement already satisfied: pyparsing!=2.0.4,!=2.1.2,!=2.1.6,>=2.0.1 in /usr/local/lib/python3.6/dist-packages (from matplotlib->pycaret) (2.4.7)\n",
            "Requirement already satisfied: kiwisolver>=1.0.1 in /usr/local/lib/python3.6/dist-packages (from matplotlib->pycaret) (1.2.0)\n",
            "Collecting chart-studio>=1.0.0\n",
            "\u001b[?25l  Downloading https://files.pythonhosted.org/packages/ca/ce/330794a6b6ca4b9182c38fc69dd2a9cbff60fd49421cb8648ee5fee352dc/chart_studio-1.1.0-py3-none-any.whl (64kB)\n",
            "\u001b[K     |████████████████████████████████| 71kB 9.2MB/s \n",
            "\u001b[?25hRequirement already satisfied: colorlover>=0.2.1 in /usr/local/lib/python3.6/dist-packages (from cufflinks==0.17.0->pycaret) (0.3.0)\n",
            "Requirement already satisfied: missingno>=0.4.2 in /usr/local/lib/python3.6/dist-packages (from pandas-profiling==2.3.0->pycaret) (0.4.2)\n",
            "Collecting htmlmin>=0.1.12\n",
            "  Downloading https://files.pythonhosted.org/packages/b3/e7/fcd59e12169de19f0131ff2812077f964c6b960e7c09804d30a7bf2ab461/htmlmin-0.1.12.tar.gz\n",
            "Collecting phik>=0.9.8\n",
            "\u001b[?25l  Downloading https://files.pythonhosted.org/packages/01/5a/7ef1c04ce62cd72f900c06298dc2385840550d5c653a0dbc19109a5477e6/phik-0.10.0-py3-none-any.whl (599kB)\n",
            "\u001b[K     |████████████████████████████████| 604kB 34.9MB/s \n",
            "\u001b[?25hCollecting confuse>=1.0.0\n",
            "  Downloading https://files.pythonhosted.org/packages/f7/64/85dbcea372efee5cba13eaa10a3bfa7019b8fe0c3c8314d8e189116e477a/confuse-1.1.0.tar.gz\n",
            "Requirement already satisfied: astropy in /usr/local/lib/python3.6/dist-packages (from pandas-profiling==2.3.0->pycaret) (4.0.1.post1)\n",
            "Requirement already satisfied: smart-open>=1.2.1 in /usr/local/lib/python3.6/dist-packages (from gensim->pycaret) (2.0.0)\n",
            "Collecting botocore==1.17.7\n",
            "\u001b[?25l  Downloading https://files.pythonhosted.org/packages/68/32/0d91f8820844e8c4456e755f40ab7ff2e9c46e00e3795cd64b88653204d2/botocore-1.17.7-py2.py3-none-any.whl (6.3MB)\n",
            "\u001b[K     |████████████████████████████████| 6.3MB 39.0MB/s \n",
            "\u001b[?25hRequirement already satisfied: s3transfer<0.4.0,>=0.3.0 in /usr/local/lib/python3.6/dist-packages (from awscli->pycaret) (0.3.3)\n",
            "Collecting rsa<=3.5.0,>=3.1.2\n",
            "\u001b[?25l  Downloading https://files.pythonhosted.org/packages/e1/ae/baedc9cb175552e95f3395c43055a6a5e125ae4d48a1d7a924baca83e92e/rsa-3.4.2-py2.py3-none-any.whl (46kB)\n",
            "\u001b[K     |████████████████████████████████| 51kB 6.9MB/s \n",
            "\u001b[?25hCollecting colorama<0.4.4,>=0.2.5; python_version != \"3.4\"\n",
            "  Downloading https://files.pythonhosted.org/packages/c9/dc/45cdef1b4d119eb96316b3117e6d5708a08029992b2fee2c143c7a0a5cc5/colorama-0.4.3-py2.py3-none-any.whl\n",
            "Requirement already satisfied: docutils<0.16,>=0.10 in /usr/local/lib/python3.6/dist-packages (from awscli->pycaret) (0.15.2)\n",
            "Requirement already satisfied: PyYAML<5.4,>=3.10; python_version != \"3.4\" in /usr/local/lib/python3.6/dist-packages (from awscli->pycaret) (3.13)\n",
            "Requirement already satisfied: ipython-genutils in /usr/local/lib/python3.6/dist-packages (from traitlets>=4.2->IPython->pycaret) (0.2.0)\n",
            "Requirement already satisfied: wcwidth in /usr/local/lib/python3.6/dist-packages (from prompt-toolkit<2.0.0,>=1.0.4->IPython->pycaret) (0.2.4)\n",
            "Requirement already satisfied: ptyprocess>=0.5 in /usr/local/lib/python3.6/dist-packages (from pexpect; sys_platform != \"win32\"->IPython->pycaret) (0.6.0)\n",
            "Requirement already satisfied: MarkupSafe>=0.23 in /usr/local/lib/python3.6/dist-packages (from jinja2>=2.7.2->pyLDAvis->pycaret) (1.1.1)\n",
            "Requirement already satisfied: more-itertools>=4.0.0 in /usr/local/lib/python3.6/dist-packages (from pytest->pyLDAvis->pycaret) (8.4.0)\n",
            "Requirement already satisfied: attrs>=17.4.0 in /usr/local/lib/python3.6/dist-packages (from pytest->pyLDAvis->pycaret) (19.3.0)\n",
            "Requirement already satisfied: pluggy<0.8,>=0.5 in /usr/local/lib/python3.6/dist-packages (from pytest->pyLDAvis->pycaret) (0.7.1)\n",
            "Requirement already satisfied: atomicwrites>=1.0 in /usr/local/lib/python3.6/dist-packages (from pytest->pyLDAvis->pycaret) (1.4.0)\n",
            "Requirement already satisfied: py>=1.5.0 in /usr/local/lib/python3.6/dist-packages (from pytest->pyLDAvis->pycaret) (1.8.1)\n",
            "Requirement already satisfied: jupyter-core in /usr/local/lib/python3.6/dist-packages (from nbformat>=4.2.0->ipywidgets->pycaret) (4.6.3)\n",
            "Requirement already satisfied: jsonschema!=2.5.0,>=2.4 in /usr/local/lib/python3.6/dist-packages (from nbformat>=4.2.0->ipywidgets->pycaret) (2.6.0)\n",
            "Requirement already satisfied: notebook>=4.4.1 in /usr/local/lib/python3.6/dist-packages (from widgetsnbextension~=3.5.0->ipywidgets->pycaret) (5.2.2)\n",
            "Requirement already satisfied: jupyter-client in /usr/local/lib/python3.6/dist-packages (from ipykernel>=4.5.1->ipywidgets->pycaret) (5.3.4)\n",
            "Requirement already satisfied: tornado>=4.0 in /usr/local/lib/python3.6/dist-packages (from ipykernel>=4.5.1->ipywidgets->pycaret) (4.5.3)\n",
            "Requirement already satisfied: idna<3,>=2.5 in /usr/local/lib/python3.6/dist-packages (from requests<3.0.0,>=2.13.0->spacy->pycaret) (2.9)\n",
            "Requirement already satisfied: certifi>=2017.4.17 in /usr/local/lib/python3.6/dist-packages (from requests<3.0.0,>=2.13.0->spacy->pycaret) (2020.4.5.2)\n",
            "Requirement already satisfied: chardet<4,>=3.0.2 in /usr/local/lib/python3.6/dist-packages (from requests<3.0.0,>=2.13.0->spacy->pycaret) (3.0.4)\n",
            "Requirement already satisfied: urllib3!=1.25.0,!=1.25.1,<1.26,>=1.21.1 in /usr/local/lib/python3.6/dist-packages (from requests<3.0.0,>=2.13.0->spacy->pycaret) (1.24.3)\n",
            "Requirement already satisfied: importlib-metadata>=0.20; python_version < \"3.8\" in /usr/local/lib/python3.6/dist-packages (from catalogue<1.1.0,>=0.0.7->spacy->pycaret) (1.6.1)\n",
            "Requirement already satisfied: llvmlite<0.32.0,>=0.31.0dev0 in /usr/local/lib/python3.6/dist-packages (from numba!=0.47,>=0.46->umap-learn->pycaret) (0.31.0)\n",
            "Requirement already satisfied: boto in /usr/local/lib/python3.6/dist-packages (from smart-open>=1.2.1->gensim->pycaret) (2.49.0)\n",
            "Requirement already satisfied: boto3 in /usr/local/lib/python3.6/dist-packages (from smart-open>=1.2.1->gensim->pycaret) (1.14.2)\n",
            "Requirement already satisfied: jmespath<1.0.0,>=0.7.1 in /usr/local/lib/python3.6/dist-packages (from botocore==1.17.7->awscli->pycaret) (0.10.0)\n",
            "Requirement already satisfied: pyasn1>=0.1.3 in /usr/local/lib/python3.6/dist-packages (from rsa<=3.5.0,>=3.1.2->awscli->pycaret) (0.4.8)\n",
            "Requirement already satisfied: nbconvert in /usr/local/lib/python3.6/dist-packages (from notebook>=4.4.1->widgetsnbextension~=3.5.0->ipywidgets->pycaret) (5.6.1)\n",
            "Requirement already satisfied: terminado>=0.3.3; sys_platform != \"win32\" in /usr/local/lib/python3.6/dist-packages (from notebook>=4.4.1->widgetsnbextension~=3.5.0->ipywidgets->pycaret) (0.8.3)\n",
            "Requirement already satisfied: pyzmq>=13 in /usr/local/lib/python3.6/dist-packages (from jupyter-client->ipykernel>=4.5.1->ipywidgets->pycaret) (19.0.1)\n",
            "Requirement already satisfied: zipp>=0.5 in /usr/local/lib/python3.6/dist-packages (from importlib-metadata>=0.20; python_version < \"3.8\"->catalogue<1.1.0,>=0.0.7->spacy->pycaret) (3.1.0)\n",
            "Requirement already satisfied: entrypoints>=0.2.2 in /usr/local/lib/python3.6/dist-packages (from nbconvert->notebook>=4.4.1->widgetsnbextension~=3.5.0->ipywidgets->pycaret) (0.3)\n",
            "Requirement already satisfied: bleach in /usr/local/lib/python3.6/dist-packages (from nbconvert->notebook>=4.4.1->widgetsnbextension~=3.5.0->ipywidgets->pycaret) (3.1.5)\n",
            "Requirement already satisfied: mistune<2,>=0.8.1 in /usr/local/lib/python3.6/dist-packages (from nbconvert->notebook>=4.4.1->widgetsnbextension~=3.5.0->ipywidgets->pycaret) (0.8.4)\n",
            "Requirement already satisfied: pandocfilters>=1.4.1 in /usr/local/lib/python3.6/dist-packages (from nbconvert->notebook>=4.4.1->widgetsnbextension~=3.5.0->ipywidgets->pycaret) (1.4.2)\n",
            "Requirement already satisfied: testpath in /usr/local/lib/python3.6/dist-packages (from nbconvert->notebook>=4.4.1->widgetsnbextension~=3.5.0->ipywidgets->pycaret) (0.4.4)\n",
            "Requirement already satisfied: defusedxml in /usr/local/lib/python3.6/dist-packages (from nbconvert->notebook>=4.4.1->widgetsnbextension~=3.5.0->ipywidgets->pycaret) (0.6.0)\n",
            "Requirement already satisfied: packaging in /usr/local/lib/python3.6/dist-packages (from bleach->nbconvert->notebook>=4.4.1->widgetsnbextension~=3.5.0->ipywidgets->pycaret) (20.4)\n",
            "Requirement already satisfied: webencodings in /usr/local/lib/python3.6/dist-packages (from bleach->nbconvert->notebook>=4.4.1->widgetsnbextension~=3.5.0->ipywidgets->pycaret) (0.5.1)\n",
            "Building wheels for collected packages: pyLDAvis, pyod, cufflinks, shap, pandas-profiling, funcy, combo, suod, htmlmin, confuse\n",
            "  Building wheel for pyLDAvis (setup.py) ... \u001b[?25l\u001b[?25hdone\n",
            "  Created wheel for pyLDAvis: filename=pyLDAvis-2.1.2-py2.py3-none-any.whl size=97711 sha256=b4da7256e417a8c69e217e7f440f722305ddc529bd0cbbcbf1a06419c6172521\n",
            "  Stored in directory: /root/.cache/pip/wheels/98/71/24/513a99e58bb6b8465bae4d2d5e9dba8f0bef8179e3051ac414\n",
            "  Building wheel for pyod (setup.py) ... \u001b[?25l\u001b[?25hdone\n",
            "  Created wheel for pyod: filename=pyod-0.8.0-cp36-none-any.whl size=105563 sha256=b5f1107a20e1d25e6386aa924674ca78dabbbeb7f63de49c8545ded7222d4d24\n",
            "  Stored in directory: /root/.cache/pip/wheels/ba/a6/81/2dd042e240090f3603a686b897d03402219a86e3f61bc71184\n",
            "  Building wheel for cufflinks (setup.py) ... \u001b[?25l\u001b[?25hdone\n",
            "  Created wheel for cufflinks: filename=cufflinks-0.17.0-cp36-none-any.whl size=67744 sha256=c862d50b7d67a0d83438a406df8b64fcd557cb7b873b3c4f4ec50baec849313c\n",
            "  Stored in directory: /root/.cache/pip/wheels/44/d7/dc/e830ab00bc2dd3b2731295103baa070f8cbdda8891f71a7a8d\n",
            "  Building wheel for shap (setup.py) ... \u001b[?25l\u001b[?25hdone\n",
            "  Created wheel for shap: filename=shap-0.32.1-cp36-cp36m-linux_x86_64.whl size=376808 sha256=211a062e8956ebf34c205341999061dd5ac2a52b4ba99c3fe5a81fa80e2db2a4\n",
            "  Stored in directory: /root/.cache/pip/wheels/8e/b2/50/8fadb5a59789cb5bdeb01b800223be540651ae92915172050b\n",
            "  Building wheel for pandas-profiling (setup.py) ... \u001b[?25l\u001b[?25hdone\n",
            "  Created wheel for pandas-profiling: filename=pandas_profiling-2.3.0-py2.py3-none-any.whl size=145035 sha256=0553b589aff7ced4ff67af40968e6f6e9e3724f504425b32ab168c399494fd94\n",
            "  Stored in directory: /root/.cache/pip/wheels/ce/c7/f1/dbfef4848ebb048cb1d4a22d1ed0c62d8ff2523747235e19fe\n",
            "  Building wheel for funcy (setup.py) ... \u001b[?25l\u001b[?25hdone\n",
            "  Created wheel for funcy: filename=funcy-1.14-py2.py3-none-any.whl size=32042 sha256=818158317c0e51cfec5145c7773879fe90864167e44845ba003ab1608502216b\n",
            "  Stored in directory: /root/.cache/pip/wheels/20/5a/d8/1d875df03deae6f178dfdf70238cca33f948ef8a6f5209f2eb\n",
            "  Building wheel for combo (setup.py) ... \u001b[?25l\u001b[?25hdone\n",
            "  Created wheel for combo: filename=combo-0.1.0-cp36-none-any.whl size=42043 sha256=791ccabad2e0c5ad0ff0949675b2b75700fef9a2d124ca1a850be97ce77039f9\n",
            "  Stored in directory: /root/.cache/pip/wheels/00/fd/6c/8da495ef08ce61844a646df2423c2b8ecda377a89c90ecd88e\n",
            "  Building wheel for suod (setup.py) ... \u001b[?25l\u001b[?25hdone\n",
            "  Created wheel for suod: filename=suod-0.0.4-cp36-none-any.whl size=2167157 sha256=07c5fb0efeea3148daff4431278fd3eae4c0aaa8c095081a83cbcc0991a8f5f4\n",
            "  Stored in directory: /root/.cache/pip/wheels/57/55/e5/a4fca65bba231f6d0115059b589148774b41faea25b3f2aa27\n",
            "  Building wheel for htmlmin (setup.py) ... \u001b[?25l\u001b[?25hdone\n",
            "  Created wheel for htmlmin: filename=htmlmin-0.1.12-cp36-none-any.whl size=27084 sha256=6a2c9234a8173bdc7e901fcb3cd7941401d81b4e2ec8e5558492304eb0acf119\n",
            "  Stored in directory: /root/.cache/pip/wheels/43/07/ac/7c5a9d708d65247ac1f94066cf1db075540b85716c30255459\n",
            "  Building wheel for confuse (setup.py) ... \u001b[?25l\u001b[?25hdone\n",
            "  Created wheel for confuse: filename=confuse-1.1.0-cp36-none-any.whl size=17574 sha256=558c8d3e025e51f90ecfd9444bf0607e8b56a916640b5dd3c2027170d874ff57\n",
            "  Stored in directory: /root/.cache/pip/wheels/f6/8b/23/41a1b516f6d8d4cc81f5bdb55394a47cdbe9659c53668d3c9e\n",
            "Successfully built pyLDAvis pyod cufflinks shap pandas-profiling funcy combo suod htmlmin confuse\n",
            "Installing collected packages: funcy, pyLDAvis, scikit-learn, lightgbm, zope.interface, datetime, catboost, combo, suod, pyod, kmodes, datefinder, chart-studio, cufflinks, yellowbrick, shap, htmlmin, phik, confuse, pandas-profiling, botocore, rsa, colorama, awscli, pycaret\n",
            "  Found existing installation: scikit-learn 0.22.2.post1\n",
            "    Uninstalling scikit-learn-0.22.2.post1:\n",
            "      Successfully uninstalled scikit-learn-0.22.2.post1\n",
            "  Found existing installation: lightgbm 2.2.3\n",
            "    Uninstalling lightgbm-2.2.3:\n",
            "      Successfully uninstalled lightgbm-2.2.3\n",
            "  Found existing installation: cufflinks 0.17.3\n",
            "    Uninstalling cufflinks-0.17.3:\n",
            "      Successfully uninstalled cufflinks-0.17.3\n",
            "  Found existing installation: yellowbrick 0.9.1\n",
            "    Uninstalling yellowbrick-0.9.1:\n",
            "      Successfully uninstalled yellowbrick-0.9.1\n",
            "  Found existing installation: pandas-profiling 1.4.1\n",
            "    Uninstalling pandas-profiling-1.4.1:\n",
            "      Successfully uninstalled pandas-profiling-1.4.1\n",
            "  Found existing installation: botocore 1.17.2\n",
            "    Uninstalling botocore-1.17.2:\n",
            "      Successfully uninstalled botocore-1.17.2\n",
            "  Found existing installation: rsa 4.6\n",
            "    Uninstalling rsa-4.6:\n",
            "      Successfully uninstalled rsa-4.6\n",
            "Successfully installed awscli-1.18.84 botocore-1.17.7 catboost-0.20.2 chart-studio-1.1.0 colorama-0.4.3 combo-0.1.0 confuse-1.1.0 cufflinks-0.17.0 datefinder-0.7.0 datetime-4.3 funcy-1.14 htmlmin-0.1.12 kmodes-0.10.1 lightgbm-2.3.1 pandas-profiling-2.3.0 phik-0.10.0 pyLDAvis-2.1.2 pycaret-1.0.0 pyod-0.8.0 rsa-3.4.2 scikit-learn-0.22 shap-0.32.1 suod-0.0.4 yellowbrick-1.0.1 zope.interface-5.1.0\n"
          ],
          "name": "stdout"
        },
        {
          "output_type": "display_data",
          "data": {
            "application/vnd.colab-display-data+json": {
              "pip_warning": {
                "packages": [
                  "pandas_profiling",
                  "rsa"
                ]
              }
            }
          },
          "metadata": {
            "tags": []
          }
        }
      ]
    },
    {
      "cell_type": "code",
      "metadata": {
        "id": "--F-Bro9K117",
        "colab_type": "code",
        "colab": {}
      },
      "source": [
        "from pycaret.anomaly import *"
      ],
      "execution_count": 13,
      "outputs": []
    },
    {
      "cell_type": "code",
      "metadata": {
        "id": "njAWUecZK6Hc",
        "colab_type": "code",
        "colab": {
          "base_uri": "https://localhost:8080/",
          "height": 571,
          "referenced_widgets": [
            "c5a10363ebf744ed83957ae75a5f56eb",
            "00bb1b0ddb904c0aacd7b7458d41c173",
            "f341c20eef584ce4959741b165857e37",
            "c006147d1ed747cea815c488abb08cb0",
            "2081072ac1514488861ee7c98b5de2db",
            "ededcebcbcea441e9ca6f59653852822"
          ]
        },
        "outputId": "84eebb61-1ec6-4cf9-91cb-0b959cb6fb22"
      },
      "source": [
        "#intialize the setup\n",
        "exp_ano = setup(df[['X_1', 'X_2', 'X_3', 'X_4', 'X_5', 'X_6', 'X_7',\n",
        "       'X_8', 'X_9', 'X_10', 'X_11', 'X_12', 'X_13', 'X_14', 'X_15', 'Month', 'Year', 'Day','MULTIPLE_OFFENSE']],supervised_target='MULTIPLE_OFFENSE')\n"
      ],
      "execution_count": 17,
      "outputs": [
        {
          "output_type": "stream",
          "text": [
            "\n",
            "Setup Succesfully Completed!\n"
          ],
          "name": "stdout"
        },
        {
          "output_type": "display_data",
          "data": {
            "text/html": [
              "<style  type=\"text/css\" >\n",
              "</style><table id=\"T_6fc69496_b304_11ea_a9b2_0242ac1c0002\" ><thead>    <tr>        <th class=\"blank level0\" ></th>        <th class=\"col_heading level0 col0\" >Description</th>        <th class=\"col_heading level0 col1\" >Value</th>    </tr></thead><tbody>\n",
              "                <tr>\n",
              "                        <th id=\"T_6fc69496_b304_11ea_a9b2_0242ac1c0002level0_row0\" class=\"row_heading level0 row0\" >0</th>\n",
              "                        <td id=\"T_6fc69496_b304_11ea_a9b2_0242ac1c0002row0_col0\" class=\"data row0 col0\" >session_id </td>\n",
              "                        <td id=\"T_6fc69496_b304_11ea_a9b2_0242ac1c0002row0_col1\" class=\"data row0 col1\" >3682</td>\n",
              "            </tr>\n",
              "            <tr>\n",
              "                        <th id=\"T_6fc69496_b304_11ea_a9b2_0242ac1c0002level0_row1\" class=\"row_heading level0 row1\" >1</th>\n",
              "                        <td id=\"T_6fc69496_b304_11ea_a9b2_0242ac1c0002row1_col0\" class=\"data row1 col0\" >Original Data </td>\n",
              "                        <td id=\"T_6fc69496_b304_11ea_a9b2_0242ac1c0002row1_col1\" class=\"data row1 col1\" >(23856, 19)</td>\n",
              "            </tr>\n",
              "            <tr>\n",
              "                        <th id=\"T_6fc69496_b304_11ea_a9b2_0242ac1c0002level0_row2\" class=\"row_heading level0 row2\" >2</th>\n",
              "                        <td id=\"T_6fc69496_b304_11ea_a9b2_0242ac1c0002row2_col0\" class=\"data row2 col0\" >Missing Values </td>\n",
              "                        <td id=\"T_6fc69496_b304_11ea_a9b2_0242ac1c0002row2_col1\" class=\"data row2 col1\" >False</td>\n",
              "            </tr>\n",
              "            <tr>\n",
              "                        <th id=\"T_6fc69496_b304_11ea_a9b2_0242ac1c0002level0_row3\" class=\"row_heading level0 row3\" >3</th>\n",
              "                        <td id=\"T_6fc69496_b304_11ea_a9b2_0242ac1c0002row3_col0\" class=\"data row3 col0\" >Numeric Features </td>\n",
              "                        <td id=\"T_6fc69496_b304_11ea_a9b2_0242ac1c0002row3_col1\" class=\"data row3 col1\" >10</td>\n",
              "            </tr>\n",
              "            <tr>\n",
              "                        <th id=\"T_6fc69496_b304_11ea_a9b2_0242ac1c0002level0_row4\" class=\"row_heading level0 row4\" >4</th>\n",
              "                        <td id=\"T_6fc69496_b304_11ea_a9b2_0242ac1c0002row4_col0\" class=\"data row4 col0\" >Categorical Features </td>\n",
              "                        <td id=\"T_6fc69496_b304_11ea_a9b2_0242ac1c0002row4_col1\" class=\"data row4 col1\" >9</td>\n",
              "            </tr>\n",
              "            <tr>\n",
              "                        <th id=\"T_6fc69496_b304_11ea_a9b2_0242ac1c0002level0_row5\" class=\"row_heading level0 row5\" >5</th>\n",
              "                        <td id=\"T_6fc69496_b304_11ea_a9b2_0242ac1c0002row5_col0\" class=\"data row5 col0\" >Ordinal Features </td>\n",
              "                        <td id=\"T_6fc69496_b304_11ea_a9b2_0242ac1c0002row5_col1\" class=\"data row5 col1\" >False</td>\n",
              "            </tr>\n",
              "            <tr>\n",
              "                        <th id=\"T_6fc69496_b304_11ea_a9b2_0242ac1c0002level0_row6\" class=\"row_heading level0 row6\" >6</th>\n",
              "                        <td id=\"T_6fc69496_b304_11ea_a9b2_0242ac1c0002row6_col0\" class=\"data row6 col0\" >High Cardinality Features </td>\n",
              "                        <td id=\"T_6fc69496_b304_11ea_a9b2_0242ac1c0002row6_col1\" class=\"data row6 col1\" >False</td>\n",
              "            </tr>\n",
              "            <tr>\n",
              "                        <th id=\"T_6fc69496_b304_11ea_a9b2_0242ac1c0002level0_row7\" class=\"row_heading level0 row7\" >7</th>\n",
              "                        <td id=\"T_6fc69496_b304_11ea_a9b2_0242ac1c0002row7_col0\" class=\"data row7 col0\" >Transformed Data </td>\n",
              "                        <td id=\"T_6fc69496_b304_11ea_a9b2_0242ac1c0002row7_col1\" class=\"data row7 col1\" >(23856, 99)</td>\n",
              "            </tr>\n",
              "            <tr>\n",
              "                        <th id=\"T_6fc69496_b304_11ea_a9b2_0242ac1c0002level0_row8\" class=\"row_heading level0 row8\" >8</th>\n",
              "                        <td id=\"T_6fc69496_b304_11ea_a9b2_0242ac1c0002row8_col0\" class=\"data row8 col0\" >Numeric Imputer </td>\n",
              "                        <td id=\"T_6fc69496_b304_11ea_a9b2_0242ac1c0002row8_col1\" class=\"data row8 col1\" >mean</td>\n",
              "            </tr>\n",
              "            <tr>\n",
              "                        <th id=\"T_6fc69496_b304_11ea_a9b2_0242ac1c0002level0_row9\" class=\"row_heading level0 row9\" >9</th>\n",
              "                        <td id=\"T_6fc69496_b304_11ea_a9b2_0242ac1c0002row9_col0\" class=\"data row9 col0\" >Categorical Imputer </td>\n",
              "                        <td id=\"T_6fc69496_b304_11ea_a9b2_0242ac1c0002row9_col1\" class=\"data row9 col1\" >constant</td>\n",
              "            </tr>\n",
              "            <tr>\n",
              "                        <th id=\"T_6fc69496_b304_11ea_a9b2_0242ac1c0002level0_row10\" class=\"row_heading level0 row10\" >10</th>\n",
              "                        <td id=\"T_6fc69496_b304_11ea_a9b2_0242ac1c0002row10_col0\" class=\"data row10 col0\" >Normalize </td>\n",
              "                        <td id=\"T_6fc69496_b304_11ea_a9b2_0242ac1c0002row10_col1\" class=\"data row10 col1\" >False</td>\n",
              "            </tr>\n",
              "            <tr>\n",
              "                        <th id=\"T_6fc69496_b304_11ea_a9b2_0242ac1c0002level0_row11\" class=\"row_heading level0 row11\" >11</th>\n",
              "                        <td id=\"T_6fc69496_b304_11ea_a9b2_0242ac1c0002row11_col0\" class=\"data row11 col0\" >Normalize Method </td>\n",
              "                        <td id=\"T_6fc69496_b304_11ea_a9b2_0242ac1c0002row11_col1\" class=\"data row11 col1\" >None</td>\n",
              "            </tr>\n",
              "            <tr>\n",
              "                        <th id=\"T_6fc69496_b304_11ea_a9b2_0242ac1c0002level0_row12\" class=\"row_heading level0 row12\" >12</th>\n",
              "                        <td id=\"T_6fc69496_b304_11ea_a9b2_0242ac1c0002row12_col0\" class=\"data row12 col0\" >Transformation </td>\n",
              "                        <td id=\"T_6fc69496_b304_11ea_a9b2_0242ac1c0002row12_col1\" class=\"data row12 col1\" >False</td>\n",
              "            </tr>\n",
              "            <tr>\n",
              "                        <th id=\"T_6fc69496_b304_11ea_a9b2_0242ac1c0002level0_row13\" class=\"row_heading level0 row13\" >13</th>\n",
              "                        <td id=\"T_6fc69496_b304_11ea_a9b2_0242ac1c0002row13_col0\" class=\"data row13 col0\" >Transformation Method </td>\n",
              "                        <td id=\"T_6fc69496_b304_11ea_a9b2_0242ac1c0002row13_col1\" class=\"data row13 col1\" >None</td>\n",
              "            </tr>\n",
              "            <tr>\n",
              "                        <th id=\"T_6fc69496_b304_11ea_a9b2_0242ac1c0002level0_row14\" class=\"row_heading level0 row14\" >14</th>\n",
              "                        <td id=\"T_6fc69496_b304_11ea_a9b2_0242ac1c0002row14_col0\" class=\"data row14 col0\" >PCA </td>\n",
              "                        <td id=\"T_6fc69496_b304_11ea_a9b2_0242ac1c0002row14_col1\" class=\"data row14 col1\" >False</td>\n",
              "            </tr>\n",
              "            <tr>\n",
              "                        <th id=\"T_6fc69496_b304_11ea_a9b2_0242ac1c0002level0_row15\" class=\"row_heading level0 row15\" >15</th>\n",
              "                        <td id=\"T_6fc69496_b304_11ea_a9b2_0242ac1c0002row15_col0\" class=\"data row15 col0\" >PCA Method </td>\n",
              "                        <td id=\"T_6fc69496_b304_11ea_a9b2_0242ac1c0002row15_col1\" class=\"data row15 col1\" >None</td>\n",
              "            </tr>\n",
              "            <tr>\n",
              "                        <th id=\"T_6fc69496_b304_11ea_a9b2_0242ac1c0002level0_row16\" class=\"row_heading level0 row16\" >16</th>\n",
              "                        <td id=\"T_6fc69496_b304_11ea_a9b2_0242ac1c0002row16_col0\" class=\"data row16 col0\" >PCA components </td>\n",
              "                        <td id=\"T_6fc69496_b304_11ea_a9b2_0242ac1c0002row16_col1\" class=\"data row16 col1\" >None</td>\n",
              "            </tr>\n",
              "            <tr>\n",
              "                        <th id=\"T_6fc69496_b304_11ea_a9b2_0242ac1c0002level0_row17\" class=\"row_heading level0 row17\" >17</th>\n",
              "                        <td id=\"T_6fc69496_b304_11ea_a9b2_0242ac1c0002row17_col0\" class=\"data row17 col0\" >Ignore Low Variance </td>\n",
              "                        <td id=\"T_6fc69496_b304_11ea_a9b2_0242ac1c0002row17_col1\" class=\"data row17 col1\" >False</td>\n",
              "            </tr>\n",
              "            <tr>\n",
              "                        <th id=\"T_6fc69496_b304_11ea_a9b2_0242ac1c0002level0_row18\" class=\"row_heading level0 row18\" >18</th>\n",
              "                        <td id=\"T_6fc69496_b304_11ea_a9b2_0242ac1c0002row18_col0\" class=\"data row18 col0\" >Combine Rare Levels </td>\n",
              "                        <td id=\"T_6fc69496_b304_11ea_a9b2_0242ac1c0002row18_col1\" class=\"data row18 col1\" >False</td>\n",
              "            </tr>\n",
              "            <tr>\n",
              "                        <th id=\"T_6fc69496_b304_11ea_a9b2_0242ac1c0002level0_row19\" class=\"row_heading level0 row19\" >19</th>\n",
              "                        <td id=\"T_6fc69496_b304_11ea_a9b2_0242ac1c0002row19_col0\" class=\"data row19 col0\" >Rare Level Threshold </td>\n",
              "                        <td id=\"T_6fc69496_b304_11ea_a9b2_0242ac1c0002row19_col1\" class=\"data row19 col1\" >None</td>\n",
              "            </tr>\n",
              "            <tr>\n",
              "                        <th id=\"T_6fc69496_b304_11ea_a9b2_0242ac1c0002level0_row20\" class=\"row_heading level0 row20\" >20</th>\n",
              "                        <td id=\"T_6fc69496_b304_11ea_a9b2_0242ac1c0002row20_col0\" class=\"data row20 col0\" >Numeric Binning </td>\n",
              "                        <td id=\"T_6fc69496_b304_11ea_a9b2_0242ac1c0002row20_col1\" class=\"data row20 col1\" >False</td>\n",
              "            </tr>\n",
              "            <tr>\n",
              "                        <th id=\"T_6fc69496_b304_11ea_a9b2_0242ac1c0002level0_row21\" class=\"row_heading level0 row21\" >21</th>\n",
              "                        <td id=\"T_6fc69496_b304_11ea_a9b2_0242ac1c0002row21_col0\" class=\"data row21 col0\" >Remove Multicollinearity </td>\n",
              "                        <td id=\"T_6fc69496_b304_11ea_a9b2_0242ac1c0002row21_col1\" class=\"data row21 col1\" >False</td>\n",
              "            </tr>\n",
              "            <tr>\n",
              "                        <th id=\"T_6fc69496_b304_11ea_a9b2_0242ac1c0002level0_row22\" class=\"row_heading level0 row22\" >22</th>\n",
              "                        <td id=\"T_6fc69496_b304_11ea_a9b2_0242ac1c0002row22_col0\" class=\"data row22 col0\" >Multicollinearity Threshold </td>\n",
              "                        <td id=\"T_6fc69496_b304_11ea_a9b2_0242ac1c0002row22_col1\" class=\"data row22 col1\" >None</td>\n",
              "            </tr>\n",
              "            <tr>\n",
              "                        <th id=\"T_6fc69496_b304_11ea_a9b2_0242ac1c0002level0_row23\" class=\"row_heading level0 row23\" >23</th>\n",
              "                        <td id=\"T_6fc69496_b304_11ea_a9b2_0242ac1c0002row23_col0\" class=\"data row23 col0\" >Group Features </td>\n",
              "                        <td id=\"T_6fc69496_b304_11ea_a9b2_0242ac1c0002row23_col1\" class=\"data row23 col1\" >False</td>\n",
              "            </tr>\n",
              "    </tbody></table>"
            ],
            "text/plain": [
              "<pandas.io.formats.style.Styler at 0x7f51c28bfc88>"
            ]
          },
          "metadata": {
            "tags": []
          }
        }
      ]
    },
    {
      "cell_type": "code",
      "metadata": {
        "id": "Va6PXLopK_EY",
        "colab_type": "code",
        "colab": {
          "base_uri": "https://localhost:8080/",
          "height": 166
        },
        "outputId": "2fc3d79d-e6e1-4d76-bdd7-828b07c91950"
      },
      "source": [
        "compare_models()"
      ],
      "execution_count": 19,
      "outputs": [
        {
          "output_type": "error",
          "ename": "NameError",
          "evalue": "ignored",
          "traceback": [
            "\u001b[0;31m---------------------------------------------------------------------------\u001b[0m",
            "\u001b[0;31mNameError\u001b[0m                                 Traceback (most recent call last)",
            "\u001b[0;32m<ipython-input-19-9ff5ccfe3077>\u001b[0m in \u001b[0;36m<module>\u001b[0;34m()\u001b[0m\n\u001b[0;32m----> 1\u001b[0;31m \u001b[0mcompare_models\u001b[0m\u001b[0;34m(\u001b[0m\u001b[0;34m)\u001b[0m\u001b[0;34m\u001b[0m\u001b[0;34m\u001b[0m\u001b[0m\n\u001b[0m",
            "\u001b[0;31mNameError\u001b[0m: name 'compare_models' is not defined"
          ]
        }
      ]
    },
    {
      "cell_type": "code",
      "metadata": {
        "id": "Xu53runvL7mN",
        "colab_type": "code",
        "colab": {}
      },
      "source": [
        ""
      ],
      "execution_count": null,
      "outputs": []
    }
  ]
}